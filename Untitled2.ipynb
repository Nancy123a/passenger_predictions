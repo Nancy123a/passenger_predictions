{
  "nbformat": 4,
  "nbformat_minor": 0,
  "metadata": {
    "colab": {
      "provenance": [],
      "authorship_tag": "ABX9TyOe4P9U8JvEHlQwqUg1txPG",
      "include_colab_link": true
    },
    "kernelspec": {
      "name": "python3",
      "display_name": "Python 3"
    },
    "language_info": {
      "name": "python"
    }
  },
  "cells": [
    {
      "cell_type": "markdown",
      "metadata": {
        "id": "view-in-github",
        "colab_type": "text"
      },
      "source": [
        "<a href=\"https://colab.research.google.com/github/Nancy123a/passenger_predictions/blob/main/Untitled2.ipynb\" target=\"_parent\"><img src=\"https://colab.research.google.com/assets/colab-badge.svg\" alt=\"Open In Colab\"/></a>"
      ]
    },
    {
      "cell_type": "code",
      "source": [
        "import pandas as pd\n",
        "\n",
        "url = 'https://raw.githubusercontent.com/jbrownlee/Datasets/master/airline-passengers.csv'\n",
        "\n",
        "dataset = pd.read_csv(url)\n",
        "dataset.head(5)"
      ],
      "metadata": {
        "colab": {
          "base_uri": "https://localhost:8080/",
          "height": 206
        },
        "id": "rByE9_0eMBaA",
        "outputId": "483e26c2-e0fb-4ac3-b240-e7fb4db38ff7"
      },
      "execution_count": 2,
      "outputs": [
        {
          "output_type": "execute_result",
          "data": {
            "text/plain": [
              "     Month  Passengers\n",
              "0  1949-01         112\n",
              "1  1949-02         118\n",
              "2  1949-03         132\n",
              "3  1949-04         129\n",
              "4  1949-05         121"
            ],
            "text/html": [
              "\n",
              "  <div id=\"df-4dcab38c-80c3-4ed7-96af-deecaab3389a\" class=\"colab-df-container\">\n",
              "    <div>\n",
              "<style scoped>\n",
              "    .dataframe tbody tr th:only-of-type {\n",
              "        vertical-align: middle;\n",
              "    }\n",
              "\n",
              "    .dataframe tbody tr th {\n",
              "        vertical-align: top;\n",
              "    }\n",
              "\n",
              "    .dataframe thead th {\n",
              "        text-align: right;\n",
              "    }\n",
              "</style>\n",
              "<table border=\"1\" class=\"dataframe\">\n",
              "  <thead>\n",
              "    <tr style=\"text-align: right;\">\n",
              "      <th></th>\n",
              "      <th>Month</th>\n",
              "      <th>Passengers</th>\n",
              "    </tr>\n",
              "  </thead>\n",
              "  <tbody>\n",
              "    <tr>\n",
              "      <th>0</th>\n",
              "      <td>1949-01</td>\n",
              "      <td>112</td>\n",
              "    </tr>\n",
              "    <tr>\n",
              "      <th>1</th>\n",
              "      <td>1949-02</td>\n",
              "      <td>118</td>\n",
              "    </tr>\n",
              "    <tr>\n",
              "      <th>2</th>\n",
              "      <td>1949-03</td>\n",
              "      <td>132</td>\n",
              "    </tr>\n",
              "    <tr>\n",
              "      <th>3</th>\n",
              "      <td>1949-04</td>\n",
              "      <td>129</td>\n",
              "    </tr>\n",
              "    <tr>\n",
              "      <th>4</th>\n",
              "      <td>1949-05</td>\n",
              "      <td>121</td>\n",
              "    </tr>\n",
              "  </tbody>\n",
              "</table>\n",
              "</div>\n",
              "    <div class=\"colab-df-buttons\">\n",
              "\n",
              "  <div class=\"colab-df-container\">\n",
              "    <button class=\"colab-df-convert\" onclick=\"convertToInteractive('df-4dcab38c-80c3-4ed7-96af-deecaab3389a')\"\n",
              "            title=\"Convert this dataframe to an interactive table.\"\n",
              "            style=\"display:none;\">\n",
              "\n",
              "  <svg xmlns=\"http://www.w3.org/2000/svg\" height=\"24px\" viewBox=\"0 -960 960 960\">\n",
              "    <path d=\"M120-120v-720h720v720H120Zm60-500h600v-160H180v160Zm220 220h160v-160H400v160Zm0 220h160v-160H400v160ZM180-400h160v-160H180v160Zm440 0h160v-160H620v160ZM180-180h160v-160H180v160Zm440 0h160v-160H620v160Z\"/>\n",
              "  </svg>\n",
              "    </button>\n",
              "\n",
              "  <style>\n",
              "    .colab-df-container {\n",
              "      display:flex;\n",
              "      gap: 12px;\n",
              "    }\n",
              "\n",
              "    .colab-df-convert {\n",
              "      background-color: #E8F0FE;\n",
              "      border: none;\n",
              "      border-radius: 50%;\n",
              "      cursor: pointer;\n",
              "      display: none;\n",
              "      fill: #1967D2;\n",
              "      height: 32px;\n",
              "      padding: 0 0 0 0;\n",
              "      width: 32px;\n",
              "    }\n",
              "\n",
              "    .colab-df-convert:hover {\n",
              "      background-color: #E2EBFA;\n",
              "      box-shadow: 0px 1px 2px rgba(60, 64, 67, 0.3), 0px 1px 3px 1px rgba(60, 64, 67, 0.15);\n",
              "      fill: #174EA6;\n",
              "    }\n",
              "\n",
              "    .colab-df-buttons div {\n",
              "      margin-bottom: 4px;\n",
              "    }\n",
              "\n",
              "    [theme=dark] .colab-df-convert {\n",
              "      background-color: #3B4455;\n",
              "      fill: #D2E3FC;\n",
              "    }\n",
              "\n",
              "    [theme=dark] .colab-df-convert:hover {\n",
              "      background-color: #434B5C;\n",
              "      box-shadow: 0px 1px 3px 1px rgba(0, 0, 0, 0.15);\n",
              "      filter: drop-shadow(0px 1px 2px rgba(0, 0, 0, 0.3));\n",
              "      fill: #FFFFFF;\n",
              "    }\n",
              "  </style>\n",
              "\n",
              "    <script>\n",
              "      const buttonEl =\n",
              "        document.querySelector('#df-4dcab38c-80c3-4ed7-96af-deecaab3389a button.colab-df-convert');\n",
              "      buttonEl.style.display =\n",
              "        google.colab.kernel.accessAllowed ? 'block' : 'none';\n",
              "\n",
              "      async function convertToInteractive(key) {\n",
              "        const element = document.querySelector('#df-4dcab38c-80c3-4ed7-96af-deecaab3389a');\n",
              "        const dataTable =\n",
              "          await google.colab.kernel.invokeFunction('convertToInteractive',\n",
              "                                                    [key], {});\n",
              "        if (!dataTable) return;\n",
              "\n",
              "        const docLinkHtml = 'Like what you see? Visit the ' +\n",
              "          '<a target=\"_blank\" href=https://colab.research.google.com/notebooks/data_table.ipynb>data table notebook</a>'\n",
              "          + ' to learn more about interactive tables.';\n",
              "        element.innerHTML = '';\n",
              "        dataTable['output_type'] = 'display_data';\n",
              "        await google.colab.output.renderOutput(dataTable, element);\n",
              "        const docLink = document.createElement('div');\n",
              "        docLink.innerHTML = docLinkHtml;\n",
              "        element.appendChild(docLink);\n",
              "      }\n",
              "    </script>\n",
              "  </div>\n",
              "\n",
              "\n",
              "<div id=\"df-ff402504-89bd-4762-a881-312b071041c8\">\n",
              "  <button class=\"colab-df-quickchart\" onclick=\"quickchart('df-ff402504-89bd-4762-a881-312b071041c8')\"\n",
              "            title=\"Suggest charts\"\n",
              "            style=\"display:none;\">\n",
              "\n",
              "<svg xmlns=\"http://www.w3.org/2000/svg\" height=\"24px\"viewBox=\"0 0 24 24\"\n",
              "     width=\"24px\">\n",
              "    <g>\n",
              "        <path d=\"M19 3H5c-1.1 0-2 .9-2 2v14c0 1.1.9 2 2 2h14c1.1 0 2-.9 2-2V5c0-1.1-.9-2-2-2zM9 17H7v-7h2v7zm4 0h-2V7h2v10zm4 0h-2v-4h2v4z\"/>\n",
              "    </g>\n",
              "</svg>\n",
              "  </button>\n",
              "\n",
              "<style>\n",
              "  .colab-df-quickchart {\n",
              "      --bg-color: #E8F0FE;\n",
              "      --fill-color: #1967D2;\n",
              "      --hover-bg-color: #E2EBFA;\n",
              "      --hover-fill-color: #174EA6;\n",
              "      --disabled-fill-color: #AAA;\n",
              "      --disabled-bg-color: #DDD;\n",
              "  }\n",
              "\n",
              "  [theme=dark] .colab-df-quickchart {\n",
              "      --bg-color: #3B4455;\n",
              "      --fill-color: #D2E3FC;\n",
              "      --hover-bg-color: #434B5C;\n",
              "      --hover-fill-color: #FFFFFF;\n",
              "      --disabled-bg-color: #3B4455;\n",
              "      --disabled-fill-color: #666;\n",
              "  }\n",
              "\n",
              "  .colab-df-quickchart {\n",
              "    background-color: var(--bg-color);\n",
              "    border: none;\n",
              "    border-radius: 50%;\n",
              "    cursor: pointer;\n",
              "    display: none;\n",
              "    fill: var(--fill-color);\n",
              "    height: 32px;\n",
              "    padding: 0;\n",
              "    width: 32px;\n",
              "  }\n",
              "\n",
              "  .colab-df-quickchart:hover {\n",
              "    background-color: var(--hover-bg-color);\n",
              "    box-shadow: 0 1px 2px rgba(60, 64, 67, 0.3), 0 1px 3px 1px rgba(60, 64, 67, 0.15);\n",
              "    fill: var(--button-hover-fill-color);\n",
              "  }\n",
              "\n",
              "  .colab-df-quickchart-complete:disabled,\n",
              "  .colab-df-quickchart-complete:disabled:hover {\n",
              "    background-color: var(--disabled-bg-color);\n",
              "    fill: var(--disabled-fill-color);\n",
              "    box-shadow: none;\n",
              "  }\n",
              "\n",
              "  .colab-df-spinner {\n",
              "    border: 2px solid var(--fill-color);\n",
              "    border-color: transparent;\n",
              "    border-bottom-color: var(--fill-color);\n",
              "    animation:\n",
              "      spin 1s steps(1) infinite;\n",
              "  }\n",
              "\n",
              "  @keyframes spin {\n",
              "    0% {\n",
              "      border-color: transparent;\n",
              "      border-bottom-color: var(--fill-color);\n",
              "      border-left-color: var(--fill-color);\n",
              "    }\n",
              "    20% {\n",
              "      border-color: transparent;\n",
              "      border-left-color: var(--fill-color);\n",
              "      border-top-color: var(--fill-color);\n",
              "    }\n",
              "    30% {\n",
              "      border-color: transparent;\n",
              "      border-left-color: var(--fill-color);\n",
              "      border-top-color: var(--fill-color);\n",
              "      border-right-color: var(--fill-color);\n",
              "    }\n",
              "    40% {\n",
              "      border-color: transparent;\n",
              "      border-right-color: var(--fill-color);\n",
              "      border-top-color: var(--fill-color);\n",
              "    }\n",
              "    60% {\n",
              "      border-color: transparent;\n",
              "      border-right-color: var(--fill-color);\n",
              "    }\n",
              "    80% {\n",
              "      border-color: transparent;\n",
              "      border-right-color: var(--fill-color);\n",
              "      border-bottom-color: var(--fill-color);\n",
              "    }\n",
              "    90% {\n",
              "      border-color: transparent;\n",
              "      border-bottom-color: var(--fill-color);\n",
              "    }\n",
              "  }\n",
              "</style>\n",
              "\n",
              "  <script>\n",
              "    async function quickchart(key) {\n",
              "      const quickchartButtonEl =\n",
              "        document.querySelector('#' + key + ' button');\n",
              "      quickchartButtonEl.disabled = true;  // To prevent multiple clicks.\n",
              "      quickchartButtonEl.classList.add('colab-df-spinner');\n",
              "      try {\n",
              "        const charts = await google.colab.kernel.invokeFunction(\n",
              "            'suggestCharts', [key], {});\n",
              "      } catch (error) {\n",
              "        console.error('Error during call to suggestCharts:', error);\n",
              "      }\n",
              "      quickchartButtonEl.classList.remove('colab-df-spinner');\n",
              "      quickchartButtonEl.classList.add('colab-df-quickchart-complete');\n",
              "    }\n",
              "    (() => {\n",
              "      let quickchartButtonEl =\n",
              "        document.querySelector('#df-ff402504-89bd-4762-a881-312b071041c8 button');\n",
              "      quickchartButtonEl.style.display =\n",
              "        google.colab.kernel.accessAllowed ? 'block' : 'none';\n",
              "    })();\n",
              "  </script>\n",
              "</div>\n",
              "\n",
              "    </div>\n",
              "  </div>\n"
            ],
            "application/vnd.google.colaboratory.intrinsic+json": {
              "type": "dataframe",
              "variable_name": "dataset",
              "summary": "{\n  \"name\": \"dataset\",\n  \"rows\": 144,\n  \"fields\": [\n    {\n      \"column\": \"Month\",\n      \"properties\": {\n        \"dtype\": \"object\",\n        \"num_unique_values\": 144,\n        \"samples\": [\n          \"1958-10\",\n          \"1950-08\",\n          \"1955-11\"\n        ],\n        \"semantic_type\": \"\",\n        \"description\": \"\"\n      }\n    },\n    {\n      \"column\": \"Passengers\",\n      \"properties\": {\n        \"dtype\": \"number\",\n        \"std\": 119,\n        \"min\": 104,\n        \"max\": 622,\n        \"num_unique_values\": 118,\n        \"samples\": [\n          293,\n          340,\n          121\n        ],\n        \"semantic_type\": \"\",\n        \"description\": \"\"\n      }\n    }\n  ]\n}"
            }
          },
          "metadata": {},
          "execution_count": 2
        }
      ]
    },
    {
      "cell_type": "code",
      "source": [
        "dataset.info()"
      ],
      "metadata": {
        "colab": {
          "base_uri": "https://localhost:8080/"
        },
        "id": "11-TK3lMMLAU",
        "outputId": "20598871-d96b-41b1-e122-c21131e8d974"
      },
      "execution_count": 3,
      "outputs": [
        {
          "output_type": "stream",
          "name": "stdout",
          "text": [
            "<class 'pandas.core.frame.DataFrame'>\n",
            "RangeIndex: 144 entries, 0 to 143\n",
            "Data columns (total 2 columns):\n",
            " #   Column      Non-Null Count  Dtype \n",
            "---  ------      --------------  ----- \n",
            " 0   Month       144 non-null    object\n",
            " 1   Passengers  144 non-null    int64 \n",
            "dtypes: int64(1), object(1)\n",
            "memory usage: 2.4+ KB\n"
          ]
        }
      ]
    },
    {
      "cell_type": "code",
      "source": [
        "dataset.isna().sum()"
      ],
      "metadata": {
        "colab": {
          "base_uri": "https://localhost:8080/",
          "height": 146
        },
        "id": "mjzWecFOMTVI",
        "outputId": "875e04ec-9b93-46ab-bd3d-3e1a7c2b544d"
      },
      "execution_count": 4,
      "outputs": [
        {
          "output_type": "execute_result",
          "data": {
            "text/plain": [
              "Month         0\n",
              "Passengers    0\n",
              "dtype: int64"
            ],
            "text/html": [
              "<div>\n",
              "<style scoped>\n",
              "    .dataframe tbody tr th:only-of-type {\n",
              "        vertical-align: middle;\n",
              "    }\n",
              "\n",
              "    .dataframe tbody tr th {\n",
              "        vertical-align: top;\n",
              "    }\n",
              "\n",
              "    .dataframe thead th {\n",
              "        text-align: right;\n",
              "    }\n",
              "</style>\n",
              "<table border=\"1\" class=\"dataframe\">\n",
              "  <thead>\n",
              "    <tr style=\"text-align: right;\">\n",
              "      <th></th>\n",
              "      <th>0</th>\n",
              "    </tr>\n",
              "  </thead>\n",
              "  <tbody>\n",
              "    <tr>\n",
              "      <th>Month</th>\n",
              "      <td>0</td>\n",
              "    </tr>\n",
              "    <tr>\n",
              "      <th>Passengers</th>\n",
              "      <td>0</td>\n",
              "    </tr>\n",
              "  </tbody>\n",
              "</table>\n",
              "</div><br><label><b>dtype:</b> int64</label>"
            ]
          },
          "metadata": {},
          "execution_count": 4
        }
      ]
    },
    {
      "cell_type": "markdown",
      "source": [
        "- The dataset contains 144 rows and 2 columns: Month and Passengers\n",
        "- There is no null values in this dataset"
      ],
      "metadata": {
        "id": "pkzdWyLWMYie"
      }
    },
    {
      "cell_type": "code",
      "source": [
        "import matplotlib.pyplot as plt\n",
        "plt.plot(dataset['Passengers'])"
      ],
      "metadata": {
        "colab": {
          "base_uri": "https://localhost:8080/",
          "height": 447
        },
        "id": "Mc894phDMXDL",
        "outputId": "305ab352-9d93-42d2-a3b8-143bfabd4af5"
      },
      "execution_count": 6,
      "outputs": [
        {
          "output_type": "execute_result",
          "data": {
            "text/plain": [
              "[<matplotlib.lines.Line2D at 0x7d72c8c9cdf0>]"
            ]
          },
          "metadata": {},
          "execution_count": 6
        },
        {
          "output_type": "display_data",
          "data": {
            "text/plain": [
              "<Figure size 640x480 with 1 Axes>"
            ],
            "image/png": "[encoded data removed]"
          },
          "metadata": {}
        }
      ]
    },
    {
      "cell_type": "markdown",
      "source": [
        "- We can see an upward trend in the plot.\n",
        "- There is also periodicity in the dataset that probably corresponds to the northern hemisphere summer holiday period.\n",
        "- **Goal of this project:** Given a year and month predict the number of international airline passengers\n",
        "\n",
        "## Multilayer Perceptron Regression:\n",
        "Convert a single column of data into two column of data: the first column containing this month’s (t) passenger count and the second column containing next month’s (t+1) passenger count to be predicted.\n"
      ],
      "metadata": {
        "id": "xteDDLxFMtON"
      }
    },
    {
      "cell_type": "code",
      "source": [
        "import numpy as np\n",
        "import matplotlib.pyplot as plt\n",
        "import pandas as pd\n",
        "from tensorflow.keras.models import Sequential\n",
        "from tensorflow.keras.layers import Dense"
      ],
      "metadata": {
        "id": "dGgjiW20Mqxs"
      },
      "execution_count": 7,
      "outputs": []
    },
    {
      "cell_type": "code",
      "source": [
        "dataset['Passengers'] = dataset['Passengers'].astype('float32')"
      ],
      "metadata": {
        "id": "ILi-KYUwMypW"
      },
      "execution_count": 8,
      "outputs": []
    },
    {
      "cell_type": "code",
      "source": [
        "dataset.info()"
      ],
      "metadata": {
        "colab": {
          "base_uri": "https://localhost:8080/"
        },
        "id": "Jt83oueVNATV",
        "outputId": "4db1057e-329d-4dd4-c09c-10d5cc5e3987"
      },
      "execution_count": 9,
      "outputs": [
        {
          "output_type": "stream",
          "name": "stdout",
          "text": [
            "<class 'pandas.core.frame.DataFrame'>\n",
            "RangeIndex: 144 entries, 0 to 143\n",
            "Data columns (total 2 columns):\n",
            " #   Column      Non-Null Count  Dtype  \n",
            "---  ------      --------------  -----  \n",
            " 0   Month       144 non-null    object \n",
            " 1   Passengers  144 non-null    float32\n",
            "dtypes: float32(1), object(1)\n",
            "memory usage: 1.8+ KB\n"
          ]
        }
      ]
    },
    {
      "cell_type": "markdown",
      "source": [
        "- The sequence value in time series data is important.\n",
        "- Separate the dataset with 67% for training and 33% for testing."
      ],
      "metadata": {
        "id": "E5AuqN-rNVNU"
      }
    },
    {
      "cell_type": "code",
      "source": [
        "train_size=int(len(dataset)*0.67)\n",
        "test_size=len(dataset)-train_size\n",
        "train = dataset.iloc[0:train_size,:]\n",
        "test = dataset.iloc[train_size:len(dataset),:]\n",
        "print(len(train),len(test))"
      ],
      "metadata": {
        "colab": {
          "base_uri": "https://localhost:8080/"
        },
        "id": "pNNbA_sJNCTL",
        "outputId": "63f9a336-29cd-4218-fd8e-bb234b49a8ac"
      },
      "execution_count": 23,
      "outputs": [
        {
          "output_type": "stream",
          "name": "stdout",
          "text": [
            "96 48\n"
          ]
        }
      ]
    },
    {
      "cell_type": "markdown",
      "source": [
        "- Create a dataset where X is the number of passengers at a given time (t), and Y is the number of passengers at the next time (t + 1).\n",
        "- Let's just focus on the number of passengers"
      ],
      "metadata": {
        "id": "5MrngHulQDV7"
      }
    },
    {
      "cell_type": "code",
      "source": [
        "def create_dataset(dataset,look_back=1):\n",
        "  dataX,dataY=[],[]\n",
        "  for i in range(len(dataset)-look_back-1):\n",
        "    a = dataset.iloc[i:(i+look_back), 1] ## the row itself, the first column (Passengers)\n",
        "    dataX.append(a)\n",
        "    dataY.append(dataset.iloc[i + look_back, 1]) ## the next row, the first column (Passengers)\n",
        "  return np.array(dataX), np.array(dataY)"
      ],
      "metadata": {
        "id": "HIe9kMcePvMn"
      },
      "execution_count": 62,
      "outputs": []
    },
    {
      "cell_type": "code",
      "source": [
        "train_X,train_y=create_dataset(train)\n",
        "test_X,test_y=create_dataset(test)"
      ],
      "metadata": {
        "id": "ty7kDER3QiTu"
      },
      "execution_count": 63,
      "outputs": []
    },
    {
      "cell_type": "markdown",
      "source": [
        "- fit a Multilayer Perceptron model to the training data.\n",
        "- We use a simple network with one input, one hidden layer with eight neurons, and an output layer. The model is fit using mean squared error, which, if you take the square root, gives you an error score in the units of the dataset."
      ],
      "metadata": {
        "id": "egOqsrFOUUZi"
      }
    },
    {
      "cell_type": "code",
      "source": [
        "model=Sequential()\n",
        "look_back=1\n",
        "model.add(Dense(8, input_shape=(look_back,), activation='relu'))\n",
        "model.add(Dense(1))\n",
        "model.compile(loss='mean_squared_error', optimizer='adam')\n",
        "model.fit(train_X, train_y, epochs=200, batch_size=2, verbose=2)"
      ],
      "metadata": {
        "colab": {
          "base_uri": "https://localhost:8080/"
        },
        "id": "fWHoljNeUQT4",
        "outputId": "60592262-0ed5-438a-8470-2bdc707bf14b"
      },
      "execution_count": 67,
      "outputs": [
        {
          "output_type": "stream",
          "name": "stdout",
          "text": [
            "Epoch 1/200\n"
          ]
        },
        {
          "output_type": "stream",
          "name": "stderr",
          "text": [
            "/usr/local/lib/python3.10/dist-packages/keras/src/layers/core/dense.py:87: UserWarning: Do not pass an `input_shape`/`input_dim` argument to a layer. When using Sequential models, prefer using an `Input(shape)` object as the first layer in the model instead.\n",
            "  super().__init__(activity_regularizer=activity_regularizer, **kwargs)\n"
          ]
        },
        {
          "output_type": "stream",
          "name": "stdout",
          "text": [
            "47/47 - 1s - 27ms/step - loss: 26133.0293\n",
            "Epoch 2/200\n",
            "47/47 - 0s - 2ms/step - loss: 12683.7217\n",
            "Epoch 3/200\n",
            "47/47 - 0s - 3ms/step - loss: 5266.5527\n",
            "Epoch 4/200\n",
            "47/47 - 0s - 3ms/step - loss: 2006.7399\n",
            "Epoch 5/200\n",
            "47/47 - 0s - 2ms/step - loss: 895.8248\n",
            "Epoch 6/200\n",
            "47/47 - 0s - 3ms/step - loss: 633.2550\n",
            "Epoch 7/200\n",
            "47/47 - 0s - 3ms/step - loss: 551.2026\n",
            "Epoch 8/200\n",
            "47/47 - 0s - 2ms/step - loss: 541.0713\n",
            "Epoch 9/200\n",
            "47/47 - 0s - 3ms/step - loss: 546.5510\n",
            "Epoch 10/200\n",
            "47/47 - 0s - 3ms/step - loss: 538.2563\n",
            "Epoch 11/200\n",
            "47/47 - 0s - 3ms/step - loss: 543.3268\n",
            "Epoch 12/200\n",
            "47/47 - 0s - 2ms/step - loss: 548.4123\n",
            "Epoch 13/200\n",
            "47/47 - 0s - 3ms/step - loss: 541.6442\n",
            "Epoch 14/200\n",
            "47/47 - 0s - 3ms/step - loss: 541.6650\n",
            "Epoch 15/200\n",
            "47/47 - 0s - 2ms/step - loss: 539.5311\n",
            "Epoch 16/200\n",
            "47/47 - 0s - 3ms/step - loss: 538.8350\n",
            "Epoch 17/200\n",
            "47/47 - 0s - 3ms/step - loss: 540.4073\n",
            "Epoch 18/200\n",
            "47/47 - 0s - 3ms/step - loss: 542.8840\n",
            "Epoch 19/200\n",
            "47/47 - 0s - 3ms/step - loss: 545.1572\n",
            "Epoch 20/200\n",
            "47/47 - 0s - 2ms/step - loss: 544.0425\n",
            "Epoch 21/200\n",
            "47/47 - 0s - 3ms/step - loss: 538.0180\n",
            "Epoch 22/200\n",
            "47/47 - 0s - 3ms/step - loss: 539.6293\n",
            "Epoch 23/200\n",
            "47/47 - 0s - 3ms/step - loss: 557.7868\n",
            "Epoch 24/200\n",
            "47/47 - 0s - 3ms/step - loss: 546.8968\n",
            "Epoch 25/200\n",
            "47/47 - 0s - 3ms/step - loss: 546.7296\n",
            "Epoch 26/200\n",
            "47/47 - 0s - 2ms/step - loss: 540.3539\n",
            "Epoch 27/200\n",
            "47/47 - 0s - 2ms/step - loss: 543.3293\n",
            "Epoch 28/200\n",
            "47/47 - 0s - 2ms/step - loss: 535.9163\n",
            "Epoch 29/200\n",
            "47/47 - 0s - 2ms/step - loss: 544.6678\n",
            "Epoch 30/200\n",
            "47/47 - 0s - 3ms/step - loss: 541.1185\n",
            "Epoch 31/200\n",
            "47/47 - 0s - 3ms/step - loss: 545.6991\n",
            "Epoch 32/200\n",
            "47/47 - 0s - 3ms/step - loss: 541.0473\n",
            "Epoch 33/200\n",
            "47/47 - 0s - 3ms/step - loss: 550.1669\n",
            "Epoch 34/200\n",
            "47/47 - 0s - 3ms/step - loss: 547.9896\n",
            "Epoch 35/200\n",
            "47/47 - 0s - 2ms/step - loss: 549.1088\n",
            "Epoch 36/200\n",
            "47/47 - 0s - 2ms/step - loss: 546.8407\n",
            "Epoch 37/200\n",
            "47/47 - 0s - 3ms/step - loss: 539.3136\n",
            "Epoch 38/200\n",
            "47/47 - 0s - 3ms/step - loss: 553.4042\n",
            "Epoch 39/200\n",
            "47/47 - 0s - 3ms/step - loss: 584.3353\n",
            "Epoch 40/200\n",
            "47/47 - 0s - 3ms/step - loss: 548.8040\n",
            "Epoch 41/200\n",
            "47/47 - 0s - 2ms/step - loss: 544.6700\n",
            "Epoch 42/200\n",
            "47/47 - 0s - 3ms/step - loss: 545.8256\n",
            "Epoch 43/200\n",
            "47/47 - 0s - 1ms/step - loss: 543.8749\n",
            "Epoch 44/200\n",
            "47/47 - 0s - 3ms/step - loss: 545.0365\n",
            "Epoch 45/200\n",
            "47/47 - 0s - 2ms/step - loss: 550.4250\n",
            "Epoch 46/200\n",
            "47/47 - 0s - 1ms/step - loss: 538.4919\n",
            "Epoch 47/200\n",
            "47/47 - 0s - 3ms/step - loss: 552.2578\n",
            "Epoch 48/200\n",
            "47/47 - 0s - 2ms/step - loss: 544.2300\n",
            "Epoch 49/200\n",
            "47/47 - 0s - 1ms/step - loss: 571.2531\n",
            "Epoch 50/200\n",
            "47/47 - 0s - 2ms/step - loss: 550.9252\n",
            "Epoch 51/200\n",
            "47/47 - 0s - 3ms/step - loss: 569.1378\n",
            "Epoch 52/200\n",
            "47/47 - 0s - 3ms/step - loss: 545.5248\n",
            "Epoch 53/200\n",
            "47/47 - 0s - 2ms/step - loss: 541.7396\n",
            "Epoch 54/200\n",
            "47/47 - 0s - 2ms/step - loss: 547.7203\n",
            "Epoch 55/200\n",
            "47/47 - 0s - 1ms/step - loss: 554.5387\n",
            "Epoch 56/200\n",
            "47/47 - 0s - 2ms/step - loss: 544.7123\n",
            "Epoch 57/200\n",
            "47/47 - 0s - 1ms/step - loss: 545.9219\n",
            "Epoch 58/200\n",
            "47/47 - 0s - 3ms/step - loss: 565.0464\n",
            "Epoch 59/200\n",
            "47/47 - 0s - 2ms/step - loss: 577.5907\n",
            "Epoch 60/200\n",
            "47/47 - 0s - 3ms/step - loss: 571.4280\n",
            "Epoch 61/200\n",
            "47/47 - 0s - 3ms/step - loss: 557.5769\n",
            "Epoch 62/200\n",
            "47/47 - 0s - 3ms/step - loss: 550.0853\n",
            "Epoch 63/200\n",
            "47/47 - 0s - 1ms/step - loss: 545.2316\n",
            "Epoch 64/200\n",
            "47/47 - 0s - 3ms/step - loss: 542.7562\n",
            "Epoch 65/200\n",
            "47/47 - 0s - 3ms/step - loss: 544.8793\n",
            "Epoch 66/200\n",
            "47/47 - 0s - 2ms/step - loss: 542.6146\n",
            "Epoch 67/200\n",
            "47/47 - 0s - 3ms/step - loss: 544.0684\n",
            "Epoch 68/200\n",
            "47/47 - 0s - 2ms/step - loss: 551.1152\n",
            "Epoch 69/200\n",
            "47/47 - 0s - 3ms/step - loss: 540.3278\n",
            "Epoch 70/200\n",
            "47/47 - 0s - 1ms/step - loss: 543.1843\n",
            "Epoch 71/200\n",
            "47/47 - 0s - 1ms/step - loss: 567.4216\n",
            "Epoch 72/200\n",
            "47/47 - 0s - 1ms/step - loss: 557.2735\n",
            "Epoch 73/200\n",
            "47/47 - 0s - 3ms/step - loss: 572.9448\n",
            "Epoch 74/200\n",
            "47/47 - 0s - 3ms/step - loss: 562.8843\n",
            "Epoch 75/200\n",
            "47/47 - 0s - 2ms/step - loss: 547.6656\n",
            "Epoch 76/200\n",
            "47/47 - 0s - 1ms/step - loss: 548.3690\n",
            "Epoch 77/200\n",
            "47/47 - 0s - 2ms/step - loss: 540.8723\n",
            "Epoch 78/200\n",
            "47/47 - 0s - 1ms/step - loss: 547.6064\n",
            "Epoch 79/200\n",
            "47/47 - 0s - 3ms/step - loss: 574.7184\n",
            "Epoch 80/200\n",
            "47/47 - 0s - 1ms/step - loss: 539.1111\n",
            "Epoch 81/200\n",
            "47/47 - 0s - 3ms/step - loss: 542.9855\n",
            "Epoch 82/200\n",
            "47/47 - 0s - 1ms/step - loss: 540.8769\n",
            "Epoch 83/200\n",
            "47/47 - 0s - 1ms/step - loss: 555.8283\n",
            "Epoch 84/200\n",
            "47/47 - 0s - 2ms/step - loss: 551.4942\n",
            "Epoch 85/200\n",
            "47/47 - 0s - 2ms/step - loss: 549.2751\n",
            "Epoch 86/200\n",
            "47/47 - 0s - 1ms/step - loss: 547.1368\n",
            "Epoch 87/200\n",
            "47/47 - 0s - 1ms/step - loss: 542.5229\n",
            "Epoch 88/200\n",
            "47/47 - 0s - 3ms/step - loss: 544.2092\n",
            "Epoch 89/200\n",
            "47/47 - 0s - 3ms/step - loss: 544.8044\n",
            "Epoch 90/200\n",
            "47/47 - 0s - 2ms/step - loss: 550.4905\n",
            "Epoch 91/200\n",
            "47/47 - 0s - 3ms/step - loss: 546.8835\n",
            "Epoch 92/200\n",
            "47/47 - 0s - 1ms/step - loss: 545.5720\n",
            "Epoch 93/200\n",
            "47/47 - 0s - 1ms/step - loss: 562.4623\n",
            "Epoch 94/200\n",
            "47/47 - 0s - 1ms/step - loss: 544.6864\n",
            "Epoch 95/200\n",
            "47/47 - 0s - 3ms/step - loss: 541.6068\n",
            "Epoch 96/200\n",
            "47/47 - 0s - 1ms/step - loss: 543.6171\n",
            "Epoch 97/200\n",
            "47/47 - 0s - 3ms/step - loss: 550.4768\n",
            "Epoch 98/200\n",
            "47/47 - 0s - 3ms/step - loss: 542.6490\n",
            "Epoch 99/200\n",
            "47/47 - 0s - 3ms/step - loss: 554.0192\n",
            "Epoch 100/200\n",
            "47/47 - 0s - 3ms/step - loss: 547.4816\n",
            "Epoch 101/200\n",
            "47/47 - 0s - 3ms/step - loss: 542.0378\n",
            "Epoch 102/200\n",
            "47/47 - 0s - 3ms/step - loss: 550.8148\n",
            "Epoch 103/200\n",
            "47/47 - 0s - 3ms/step - loss: 567.7216\n",
            "Epoch 104/200\n",
            "47/47 - 0s - 3ms/step - loss: 536.3648\n",
            "Epoch 105/200\n",
            "47/47 - 0s - 2ms/step - loss: 572.7101\n",
            "Epoch 106/200\n",
            "47/47 - 0s - 1ms/step - loss: 570.6133\n",
            "Epoch 107/200\n",
            "47/47 - 0s - 3ms/step - loss: 557.6285\n",
            "Epoch 108/200\n",
            "47/47 - 0s - 2ms/step - loss: 544.7161\n",
            "Epoch 109/200\n",
            "47/47 - 0s - 3ms/step - loss: 555.9156\n",
            "Epoch 110/200\n",
            "47/47 - 0s - 3ms/step - loss: 548.1165\n",
            "Epoch 111/200\n",
            "47/47 - 0s - 3ms/step - loss: 554.8011\n",
            "Epoch 112/200\n",
            "47/47 - 0s - 1ms/step - loss: 538.3840\n",
            "Epoch 113/200\n",
            "47/47 - 0s - 3ms/step - loss: 540.8059\n",
            "Epoch 114/200\n",
            "47/47 - 0s - 3ms/step - loss: 552.5385\n",
            "Epoch 115/200\n",
            "47/47 - 0s - 2ms/step - loss: 547.4984\n",
            "Epoch 116/200\n",
            "47/47 - 0s - 1ms/step - loss: 538.6821\n",
            "Epoch 117/200\n",
            "47/47 - 0s - 1ms/step - loss: 543.9858\n",
            "Epoch 118/200\n",
            "47/47 - 0s - 3ms/step - loss: 555.3566\n",
            "Epoch 119/200\n",
            "47/47 - 0s - 3ms/step - loss: 556.0736\n",
            "Epoch 120/200\n",
            "47/47 - 0s - 3ms/step - loss: 549.2707\n",
            "Epoch 121/200\n",
            "47/47 - 0s - 3ms/step - loss: 549.4105\n",
            "Epoch 122/200\n",
            "47/47 - 0s - 1ms/step - loss: 549.2030\n",
            "Epoch 123/200\n",
            "47/47 - 0s - 2ms/step - loss: 567.6432\n",
            "Epoch 124/200\n",
            "47/47 - 0s - 3ms/step - loss: 557.0685\n",
            "Epoch 125/200\n",
            "47/47 - 0s - 3ms/step - loss: 539.2384\n",
            "Epoch 126/200\n",
            "47/47 - 0s - 3ms/step - loss: 538.5515\n",
            "Epoch 127/200\n",
            "47/47 - 0s - 3ms/step - loss: 539.0889\n",
            "Epoch 128/200\n",
            "47/47 - 0s - 3ms/step - loss: 555.5789\n",
            "Epoch 129/200\n",
            "47/47 - 0s - 3ms/step - loss: 566.9675\n",
            "Epoch 130/200\n",
            "47/47 - 0s - 3ms/step - loss: 535.9351\n",
            "Epoch 131/200\n",
            "47/47 - 0s - 3ms/step - loss: 549.3461\n",
            "Epoch 132/200\n",
            "47/47 - 0s - 4ms/step - loss: 558.1033\n",
            "Epoch 133/200\n",
            "47/47 - 0s - 3ms/step - loss: 571.0032\n",
            "Epoch 134/200\n",
            "47/47 - 0s - 2ms/step - loss: 541.5169\n",
            "Epoch 135/200\n",
            "47/47 - 0s - 2ms/step - loss: 557.1430\n",
            "Epoch 136/200\n",
            "47/47 - 0s - 2ms/step - loss: 541.5391\n",
            "Epoch 137/200\n",
            "47/47 - 0s - 3ms/step - loss: 561.2031\n",
            "Epoch 138/200\n",
            "47/47 - 0s - 3ms/step - loss: 547.0004\n",
            "Epoch 139/200\n",
            "47/47 - 0s - 3ms/step - loss: 538.3124\n",
            "Epoch 140/200\n",
            "47/47 - 0s - 2ms/step - loss: 555.5091\n",
            "Epoch 141/200\n",
            "47/47 - 0s - 2ms/step - loss: 544.3744\n",
            "Epoch 142/200\n",
            "47/47 - 0s - 2ms/step - loss: 538.3098\n",
            "Epoch 143/200\n",
            "47/47 - 0s - 2ms/step - loss: 556.8114\n",
            "Epoch 144/200\n",
            "47/47 - 0s - 3ms/step - loss: 564.9970\n",
            "Epoch 145/200\n",
            "47/47 - 0s - 3ms/step - loss: 561.2619\n",
            "Epoch 146/200\n",
            "47/47 - 0s - 2ms/step - loss: 547.6183\n",
            "Epoch 147/200\n",
            "47/47 - 0s - 3ms/step - loss: 531.8170\n",
            "Epoch 148/200\n",
            "47/47 - 0s - 6ms/step - loss: 558.4509\n",
            "Epoch 149/200\n",
            "47/47 - 0s - 2ms/step - loss: 552.0691\n",
            "Epoch 150/200\n",
            "47/47 - 0s - 2ms/step - loss: 546.0253\n",
            "Epoch 151/200\n",
            "47/47 - 0s - 2ms/step - loss: 544.6252\n",
            "Epoch 152/200\n",
            "47/47 - 0s - 3ms/step - loss: 539.5912\n",
            "Epoch 153/200\n",
            "47/47 - 0s - 3ms/step - loss: 541.7775\n",
            "Epoch 154/200\n",
            "47/47 - 0s - 3ms/step - loss: 547.3058\n",
            "Epoch 155/200\n",
            "47/47 - 0s - 2ms/step - loss: 540.0660\n",
            "Epoch 156/200\n",
            "47/47 - 0s - 1ms/step - loss: 546.3817\n",
            "Epoch 157/200\n",
            "47/47 - 0s - 3ms/step - loss: 539.8929\n",
            "Epoch 158/200\n",
            "47/47 - 0s - 3ms/step - loss: 539.5205\n",
            "Epoch 159/200\n",
            "47/47 - 0s - 1ms/step - loss: 545.5536\n",
            "Epoch 160/200\n",
            "47/47 - 0s - 1ms/step - loss: 544.6182\n",
            "Epoch 161/200\n",
            "47/47 - 0s - 1ms/step - loss: 547.2038\n",
            "Epoch 162/200\n",
            "47/47 - 0s - 2ms/step - loss: 549.2366\n",
            "Epoch 163/200\n",
            "47/47 - 0s - 2ms/step - loss: 568.0173\n",
            "Epoch 164/200\n",
            "47/47 - 0s - 3ms/step - loss: 550.8375\n",
            "Epoch 165/200\n",
            "47/47 - 0s - 3ms/step - loss: 550.5150\n",
            "Epoch 166/200\n",
            "47/47 - 0s - 3ms/step - loss: 542.2173\n",
            "Epoch 167/200\n",
            "47/47 - 0s - 3ms/step - loss: 547.5284\n",
            "Epoch 168/200\n",
            "47/47 - 0s - 3ms/step - loss: 541.0964\n",
            "Epoch 169/200\n",
            "47/47 - 0s - 1ms/step - loss: 551.4696\n",
            "Epoch 170/200\n",
            "47/47 - 0s - 3ms/step - loss: 570.6658\n",
            "Epoch 171/200\n",
            "47/47 - 0s - 2ms/step - loss: 545.3151\n",
            "Epoch 172/200\n",
            "47/47 - 0s - 2ms/step - loss: 543.6738\n",
            "Epoch 173/200\n",
            "47/47 - 0s - 3ms/step - loss: 548.9946\n",
            "Epoch 174/200\n",
            "47/47 - 0s - 1ms/step - loss: 545.6877\n",
            "Epoch 175/200\n",
            "47/47 - 0s - 3ms/step - loss: 542.9003\n",
            "Epoch 176/200\n",
            "47/47 - 0s - 3ms/step - loss: 537.5763\n",
            "Epoch 177/200\n",
            "47/47 - 0s - 3ms/step - loss: 548.2497\n",
            "Epoch 178/200\n",
            "47/47 - 0s - 3ms/step - loss: 536.7855\n",
            "Epoch 179/200\n",
            "47/47 - 0s - 1ms/step - loss: 542.6833\n",
            "Epoch 180/200\n",
            "47/47 - 0s - 2ms/step - loss: 546.9651\n",
            "Epoch 181/200\n",
            "47/47 - 0s - 3ms/step - loss: 580.7462\n",
            "Epoch 182/200\n",
            "47/47 - 0s - 3ms/step - loss: 593.4366\n",
            "Epoch 183/200\n",
            "47/47 - 0s - 3ms/step - loss: 544.8493\n",
            "Epoch 184/200\n",
            "47/47 - 0s - 3ms/step - loss: 547.5880\n",
            "Epoch 185/200\n",
            "47/47 - 0s - 2ms/step - loss: 552.0132\n",
            "Epoch 186/200\n",
            "47/47 - 0s - 1ms/step - loss: 550.8057\n",
            "Epoch 187/200\n",
            "47/47 - 0s - 2ms/step - loss: 551.0326\n",
            "Epoch 188/200\n",
            "47/47 - 0s - 1ms/step - loss: 546.2971\n",
            "Epoch 189/200\n",
            "47/47 - 0s - 2ms/step - loss: 548.3072\n",
            "Epoch 190/200\n",
            "47/47 - 0s - 3ms/step - loss: 538.1840\n",
            "Epoch 191/200\n",
            "47/47 - 0s - 3ms/step - loss: 546.3407\n",
            "Epoch 192/200\n",
            "47/47 - 0s - 3ms/step - loss: 537.4731\n",
            "Epoch 193/200\n",
            "47/47 - 0s - 3ms/step - loss: 543.9861\n",
            "Epoch 194/200\n",
            "47/47 - 0s - 2ms/step - loss: 564.3039\n",
            "Epoch 195/200\n",
            "47/47 - 0s - 1ms/step - loss: 547.6364\n",
            "Epoch 196/200\n",
            "47/47 - 0s - 3ms/step - loss: 545.2947\n",
            "Epoch 197/200\n",
            "47/47 - 0s - 2ms/step - loss: 545.4390\n",
            "Epoch 198/200\n",
            "47/47 - 0s - 2ms/step - loss: 563.0890\n",
            "Epoch 199/200\n",
            "47/47 - 0s - 3ms/step - loss: 558.2387\n",
            "Epoch 200/200\n",
            "47/47 - 0s - 3ms/step - loss: 540.3561\n"
          ]
        },
        {
          "output_type": "execute_result",
          "data": {
            "text/plain": [
              "<keras.src.callbacks.history.History at 0x7d726774bb50>"
            ]
          },
          "metadata": {},
          "execution_count": 67
        }
      ]
    },
    {
      "cell_type": "markdown",
      "source": [
        "Once the model is fit, you can estimate the performance of the model on the train and test datasets. This will give you a point of comparison for new models."
      ],
      "metadata": {
        "id": "aSs3ZNwvVqKa"
      }
    },
    {
      "cell_type": "code",
      "source": [
        "import math\n",
        "# Estimate model performance\n",
        "trainScore = model.evaluate(train_X, train_y, verbose=0)\n",
        "print('Train Score: %.2f MSE (%.2f RMSE)' % (trainScore, math.sqrt(trainScore)))\n",
        "testScore = model.evaluate(test_X, test_y, verbose=0)\n",
        "print('Test Score: %.2f MSE (%.2f RMSE)' % (testScore, math.sqrt(testScore)))"
      ],
      "metadata": {
        "colab": {
          "base_uri": "https://localhost:8080/"
        },
        "id": "SPoEAXq5Vlv5",
        "outputId": "bf3a9ba9-a402-4a0e-872e-eb96104bfb6e"
      },
      "execution_count": 70,
      "outputs": [
        {
          "output_type": "stream",
          "name": "stdout",
          "text": [
            "Train Score: 533.75 MSE (23.10 RMSE)\n",
            "Test Score: 2359.70 MSE (48.58 RMSE)\n"
          ]
        }
      ]
    },
    {
      "cell_type": "markdown",
      "source": [
        "Because of how the dataset was prepared, you must shift the predictions to align on the x-axis with the original dataset. Once prepared, the data is plotted, showing the original dataset in blue, the predictions for the training dataset in green, and the predictions on the unseen test dataset in red.\n",
        "\n"
      ],
      "metadata": {
        "id": "Sp892jH_Wy3n"
      }
    },
    {
      "cell_type": "code",
      "source": [
        "# generate predictions for training\n",
        "trainPredict = model.predict(train_X)\n",
        "testPredict = model.predict(test_X)\n",
        "# shift train predictions for plotting\n",
        "trainPredictPlot = np.empty_like(dataset['Month'])\n",
        "trainPredictPlot[:] = np.nan\n",
        "trainPredictPlot.shape"
      ],
      "metadata": {
        "colab": {
          "base_uri": "https://localhost:8080/"
        },
        "id": "KNiFu_dVWcdc",
        "outputId": "b4ccb829-e59a-4740-f709-f68105f3ce10"
      },
      "execution_count": 93,
      "outputs": [
        {
          "output_type": "stream",
          "name": "stdout",
          "text": [
            "\u001b[1m3/3\u001b[0m \u001b[32m━━━━━━━━━━━━━━━━━━━━\u001b[0m\u001b[37m\u001b[0m \u001b[1m0s\u001b[0m 3ms/step \n",
            "\u001b[1m2/2\u001b[0m \u001b[32m━━━━━━━━━━━━━━━━━━━━\u001b[0m\u001b[37m\u001b[0m \u001b[1m0s\u001b[0m 5ms/step \n"
          ]
        },
        {
          "output_type": "execute_result",
          "data": {
            "text/plain": [
              "(144,)"
            ]
          },
          "metadata": {},
          "execution_count": 93
        }
      ]
    },
    {
      "cell_type": "code",
      "source": [
        "trainPredictPlot[look_back:len(trainPredict) + look_back] = trainPredict.flatten()"
      ],
      "metadata": {
        "id": "0HuwNe6zXVxL"
      },
      "execution_count": 103,
      "outputs": []
    },
    {
      "cell_type": "code",
      "source": [
        "testPredictPlot = np.empty_like(dataset['Month'])\n",
        "testPredictPlot[:] = np.nan\n",
        "testPredictPlot[len(trainPredict)+(look_back*2)+1:len(dataset)-1] = testPredict.flatten()"
      ],
      "metadata": {
        "id": "GM-p8e6xaycu"
      },
      "execution_count": 112,
      "outputs": []
    },
    {
      "cell_type": "code",
      "source": [
        "plt.plot(dataset['Passengers'])\n",
        "plt.plot(trainPredictPlot)\n",
        "plt.plot(testPredictPlot)"
      ],
      "metadata": {
        "colab": {
          "base_uri": "https://localhost:8080/",
          "height": 447
        },
        "id": "cpx9CtmJbnEM",
        "outputId": "fe7afbc0-65b0-4125-b4fb-61a9f2f058bd"
      },
      "execution_count": 117,
      "outputs": [
        {
          "output_type": "execute_result",
          "data": {
            "text/plain": [
              "[<matplotlib.lines.Line2D at 0x7d7267a4f0a0>]"
            ]
          },
          "metadata": {},
          "execution_count": 117
        },
        {
          "output_type": "display_data",
          "data": {
            "text/plain": [
              "<Figure size 640x480 with 1 Axes>"
            ],
            "image/png": "[encoded data removed]"
          },
          "metadata": {}
        }
      ]
    },
    {
      "cell_type": "markdown",
      "source": [
        "From the plot, you can see that the model did a pretty poor job of fitting both the training and the test datasets. It basically predicted the same input value as the output.\n",
        "\n"
      ],
      "metadata": {
        "id": "dDsyviGicBwz"
      }
    }
  ]
}